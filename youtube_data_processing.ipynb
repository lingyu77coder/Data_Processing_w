{
 "cells": [
  {
   "cell_type": "markdown",
   "metadata": {},
   "source": [
    "#                                        数据挖掘大作业"
   ]
  },
  {
   "cell_type": "markdown",
   "metadata": {},
   "source": [
    "一、youtube数据处理及分析\n",
    "\n",
    "1.数据处理\n",
    "\n",
    "1）加载csv数据，查看数据缺失值"
   ]
  },
  {
   "cell_type": "code",
   "execution_count": 5,
   "metadata": {},
   "outputs": [
    {
     "name": "stderr",
     "output_type": "stream",
     "text": [
      "e:\\python37\\lib\\site-packages\\ipykernel_launcher.py:1: FutureWarning: The pandas.np module is deprecated and will be removed from pandas in a future version. Import numpy directly instead\n",
      "  \"\"\"Entry point for launching an IPython kernel.\n"
     ]
    },
    {
     "name": "stdout",
     "output_type": "stream",
     "text": [
      "每列缺失的数据个数分别为:\n",
      "video_id                     0\n",
      "trending_date                0\n",
      "title                        0\n",
      "channel_title                0\n",
      "category_id                  0\n",
      "publish_time                 0\n",
      "tags                         0\n",
      "views                        0\n",
      "likes                        0\n",
      "dislikes                     0\n",
      "comment_count                0\n",
      "thumbnail_link               0\n",
      "comments_disabled            0\n",
      "ratings_disabled             0\n",
      "video_error_or_removed       0\n",
      "description               1296\n",
      "dtype: int64\n"
     ]
    }
   ],
   "source": [
    "from pandas import Series,DataFrame,np\n",
    "from numpy import nan as NA\n",
    "import pandas as pd\n",
    "#1.加载数据\n",
    "def load_data(path,filename):\n",
    "    return pd.read_csv(path + '/' + filename)\n",
    "root = 'E:\\youtube-new'\n",
    "data = load_data(root,'CAvideos.csv')#中文\n",
    "\n",
    "#2.缺失数据统计 -列\n",
    "data.isnull().sum()\n",
    "print(\"每列缺失的数据个数分别为:\")\n",
    "print(data.isnull().sum())"
   ]
  },
  {
   "cell_type": "markdown",
   "metadata": {},
   "source": [
    "2）缺失值填补\n",
    "观察数据缺失值，发现只有description一个属性有1296个缺失值。观察属性之间的关系，可用同元组对应的title值填补description值。"
   ]
  },
  {
   "cell_type": "code",
   "execution_count": 8,
   "metadata": {},
   "outputs": [
    {
     "name": "stdout",
     "output_type": "stream",
     "text": [
      "description根据title值进行填补\n",
      "填补后description的缺失个数为:\n",
      " 0\n"
     ]
    }
   ],
   "source": [
    "#3.缺失值填补-只有description属性有缺失值，根据其特点，可填充上对应的title\n",
    "print(\"description根据title值进行填补\")\n",
    "# 查看description特征缺失处对应的\n",
    "#包含description所需信息的title特征的具体情况\n",
    "description_locationdes=data.loc[data['description'].isnull(), 'title']\n",
    "# 等号左边为description特征缺失信息的具体位置，\n",
    "#利用字符串提取来补充description的缺失信息\n",
    "data.loc[data['description'].isnull(), 'description'] =\n",
    "     [str(x)[0: len(str(x))] for x in description_locationdes]\n",
    "\n",
    "#检验缺失值处理后是否还存在缺失值(为精简篇幅，故只显示description的缺失值)\n",
    "print(\"填补后description的缺失个数为:\\n\",data['description'].isnull().sum())"
   ]
  },
  {
   "cell_type": "markdown",
   "metadata": {},
   "source": [
    "youtube数据共有9个国家（其中KR,JP和RU无法解码），所以选取6个国家，修改加载时的文件名，对其他数据缺失值进行处理，得到表格如下：\n",
    "![title](/youtube_data_all_table.png)"
   ]
  },
  {
   "cell_type": "markdown",
   "metadata": {},
   "source": [
    "对填补后的数据进行去重处理（一般不重复，以防万一）"
   ]
  },
  {
   "cell_type": "code",
   "execution_count": 11,
   "metadata": {},
   "outputs": [
    {
     "name": "stdout",
     "output_type": "stream",
     "text": [
      "删除重复数据\n",
      "处理后的数据行列分别为: 40881\n"
     ]
    }
   ],
   "source": [
    "#4.删除重复数据\n",
    "print(\"删除重复数据\")\n",
    "#去重,默认保留前一个\n",
    "df=data.drop_duplicates()\n",
    "print(\"处理后的数据行列分别为:\",df.shape[0])\n",
    "# #处理后的数据，由于占篇幅过大，故暂不打印\n",
    "# print(\"处理后的数据为:\",df)"
   ]
  },
  {
   "cell_type": "code",
   "execution_count": null,
   "metadata": {},
   "outputs": [],
   "source": [
    "对数据进行描述\n",
    "  得到基本统计量-行数、平均值、协方差、最小值、四分之一分位数、中位数、四分之三分位数、最大值。"
   ]
  },
  {
   "cell_type": "code",
   "execution_count": 13,
   "metadata": {},
   "outputs": [
    {
     "name": "stdout",
     "output_type": "stream",
     "text": [
      "汇总和描述等统计量的计算\n",
      "        category_id         views         likes      dislikes  comment_count\n",
      "count  40881.000000  4.088100e+04  4.088100e+04  4.088100e+04   4.088100e+04\n",
      "mean      20.795553  1.147036e+06  3.958269e+04  2.009195e+03   5.042975e+03\n",
      "std        6.775054  3.390913e+06  1.326895e+05  1.900837e+04   2.157902e+04\n",
      "min        1.000000  7.330000e+02  0.000000e+00  0.000000e+00   0.000000e+00\n",
      "25%       20.000000  1.439020e+05  2.191000e+03  9.900000e+01   4.170000e+02\n",
      "50%       24.000000  3.712040e+05  8.780000e+03  3.030000e+02   1.301000e+03\n",
      "75%       24.000000  9.633020e+05  2.871700e+04  9.500000e+02   3.713000e+03\n",
      "max       43.000000  1.378431e+08  5.053338e+06  1.602383e+06   1.114800e+06\n"
     ]
    }
   ],
   "source": [
    "#5.汇总和描述等统计量的计算\n",
    "print(\"汇总和描述等统计量的计算\")\n",
    "#对数据的基本统计量进行描述,得到每列数据的行数、平均值、协方差、\n",
    "#最小值、四分之一分位数、中位数、四分之三分位数、最大值\n",
    "print(df.describe())"
   ]
  },
  {
   "cell_type": "markdown",
   "metadata": {},
   "source": [
    "观察数据，发现views，likes，dislikes和comment_count数值过大，不太适合绘制盒图或直方图，category_id可绘制盒图，可统计category_id每种id出现的频数绘制直方图，对于频数统计，还可统计channel_title出现的频数。对于Views属性，可以统计所有国家总共观看次数最多的视频top6；对于like和dislikes，可以创建一个新属性“赞踩比”，统计赞踩比最高的10支视频及比值。"
   ]
  },
  {
   "cell_type": "code",
   "execution_count": 15,
   "metadata": {},
   "outputs": [
    {
     "name": "stdout",
     "output_type": "stream",
     "text": [
      "channel_title位于前十名的频数分别为:\n",
      "SET India 192\n",
      "MSNBC 189\n",
      "FBE 188\n",
      "The Young Turks 186\n",
      "REACT 183\n",
      "VikatanTV 182\n",
      "CNN 182\n",
      "The Late Show with Stephen Colbert 172\n",
      "RadaanMedia 168\n",
      "ARY Digital 168\n"
     ]
    }
   ],
   "source": [
    "#6.2 channel_title的频数和频率\n",
    "se_channel_title=pd.Series(df['channel_title'])\n",
    "count_channel_title=dict(se_channel_title.value_counts())\n",
    "proport_channel_title = dict(se_channel_title.value_counts(normalize=True))\n",
    "print(\"channel_title位于前十名的频数分别为:\")\n",
    "for i,(key,value) in enumerate(count_channel_title.items()):\n",
    "    if i in range(0,10):\n",
    "       print(key,value)\n",
    "#频率最高的也<0.05，因此不输出频率\n",
    "# print(\"channel_title位于前十名的频率分别为:\")\n",
    "# for i,(key,value) in enumerate(proport_channel_title.items()):\n",
    "#     if i in range(0,10):\n",
    "#        print(key,value)\n",
    "# print(\"\\n\")"
   ]
  },
  {
   "cell_type": "markdown",
   "metadata": {},
   "source": [
    "将pd.Series(df['channel_title'])单引号内的属性名改为category_id即统计频数top10的类别"
   ]
  },
  {
   "cell_type": "code",
   "execution_count": 16,
   "metadata": {
    "scrolled": true
   },
   "outputs": [
    {
     "name": "stdout",
     "output_type": "stream",
     "text": [
      "category_id位于前十名的频数分别为:\n",
      "24 13451\n",
      "25 4159\n",
      "22 4105\n",
      "23 3773\n",
      "10 3731\n",
      "17 2787\n",
      "1 2060\n",
      "26 2007\n",
      "20 1344\n",
      "28 1155\n",
      "category_id位于前十名的频率分别为:\n",
      "24 0.32902815488857906\n",
      "25 0.1017343019984834\n",
      "22 0.10041339497566107\n",
      "23 0.09229226290942003\n",
      "10 0.0912648907805582\n",
      "17 0.06817347912233067\n",
      "1 0.050390156796555854\n",
      "26 0.049093711014896894\n",
      "20 0.03287590812357819\n",
      "28 0.028252733543700007\n",
      "\n",
      "\n"
     ]
    }
   ],
   "source": [
    "#6.3 category_id频数和频率\n",
    "se_category_id=pd.Series(df['category_id'])\n",
    "count_category_id=dict(se_category_id.value_counts())\n",
    "proport_category_id = dict(se_category_id.value_counts(normalize=True))\n",
    "print(\"category_id位于前十名的频数分别为:\")\n",
    "for i,(key,value) in enumerate(count_category_id.items()):\n",
    "    if i in range(0,10):\n",
    "       print(key,value)\n",
    "print(\"category_id位于前十名的频率分别为:\")\n",
    "for i,(key,value) in enumerate(proport_category_id.items()):\n",
    "    if i in range(0,10):\n",
    "       print(key,value)\n",
    "print(\"\\n\")"
   ]
  },
  {
   "cell_type": "markdown",
   "metadata": {},
   "source": [
    "引入赞踩比属性，统计top10赞踩比视频"
   ]
  },
  {
   "cell_type": "code",
   "execution_count": 17,
   "metadata": {},
   "outputs": [
    {
     "name": "stdout",
     "output_type": "stream",
     "text": [
      "赞踩比位于前十名的视频名和比值分别为:\n",
      "序号  标题                                  赞踩比\n",
      "1   The Reaction of The Streets (I W ...    2559.9\n",
      "2   Day6 Tomfoolery in NY and Japan         1263.5\n",
      "3   THE POPULAR DANCE TUTORIALS OF 9 ...    1198.4827586206898\n",
      "4   G.C.F in Osaka                          1001.0959302325581\n",
      "5   This Video Is My Wife's Annivers ...    937.3636363636364\n",
      "6   The Adventure Zone: Balance trailer     879.5\n",
      "7   BTS Dish About Debuting New Musi ...    779.5714285714286\n",
      "8   BTS Tell Us What They Love About ...    766.8048780487804\n",
      "9   Sing Anything Challenge ( w/Jess ...    766.6111111111111\n",
      "10   GHOST PEPPER SPICY RAMEN ROULETTE      763.3846153846154\n",
      "\n",
      "\n"
     ]
    }
   ],
   "source": [
    "#7.拓展探索\n",
    "#7.1赞踩比最高的前十个视频\n",
    "\n",
    "ratio_like_dis=df['likes']/(df['dislikes']+1)\n",
    "df['ratio_like_dis']=ratio_like_dis\n",
    "df_sort=df.sort_values(by='ratio_like_dis',ascending=False)\n",
    "print(\"赞踩比位于前十名的视频名和比值分别为:\")\n",
    "print(\"序号 \",\"标题 \",\"                               \",\"赞踩比\")\n",
    "for i in range(0,10):\n",
    "        if len(df_sort.iloc[i,2])<=35:\n",
    "            print(i+1,\" \",df_sort.iloc[i,2],\"   \",df_sort.iloc[i,16])   \n",
    "        else:\n",
    "            print(i+1,\" \",df_sort.iloc[i,2][:32],\"...   \",df_sort.iloc[i,16])    \n",
    "\n",
    "print(\"\\n\")"
   ]
  },
  {
   "cell_type": "markdown",
   "metadata": {},
   "source": [
    "统计各个国家的观看次数"
   ]
  },
  {
   "cell_type": "code",
   "execution_count": 18,
   "metadata": {},
   "outputs": [
    {
     "name": "stdout",
     "output_type": "stream",
     "text": [
      "观看人数前十名的视频名和人次分别为:\n",
      "序号  标题                                                 观看人次\n",
      "1   YouTube Rewind: The Shape of 2017 | #YouTubeRewind     137843120\n",
      "2   YouTube Rewind: The Shape of 2017 | #YouTubeRewind     125431369\n",
      "3   YouTube Rewind: The Shape of 2017 | #YouTubeRew ...    113876217\n",
      "4   YouTube Rewind: The Shape of 2017 | #YouTubeRewind     100911567\n",
      "5   Childish Gambino - This Is America (Official Video)     98938809\n",
      "6   Marvel Studios' Avengers: Infinity War Offici ...       89930713\n",
      "7   Marvel Studios' Avengers: Infinity War Official ...     87450245\n",
      "8   Childish Gambino - This Is America (Official Vi ...     85092067\n",
      "9   Marvel Studios' Avengers: Infinity War Official ...     84281319\n",
      "10   BTS (방탄소년단) 'FAKE LOVE' Official MV               80738011\n",
      "\n",
      "\n"
     ]
    }
   ],
   "source": [
    "#7.2观看人数最多的视频\n",
    "df_sort2=df.sort_values(by='views',ascending=False)\n",
    "print(\"观看人数前十名的视频名和人次分别为:\")\n",
    "print(\"序号 \",\"标题 \",\"                                              \",\"观看人次\")\n",
    "for i in range(0,10):\n",
    "        if len(df_sort.iloc[i,2])<=50:\n",
    "            print(i+1,\" \",df_sort2.iloc[i,2],\"   \",df_sort2.iloc[i,7])   \n",
    "        else:\n",
    "            print(i+1,\" \",df_sort2.iloc[i,2][:47],\"...    \",df_sort2.iloc[i,7])    \n",
    "\n",
    "print(\"\\n\")"
   ]
  },
  {
   "cell_type": "markdown",
   "metadata": {},
   "source": [
    "直方图\n",
    "category_id"
   ]
  },
  {
   "cell_type": "code",
   "execution_count": 23,
   "metadata": {},
   "outputs": [
    {
     "data": {
      "image/png": "[encoded data removed]",
      "text/plain": [
       "<Figure size 432x288 with 1 Axes>"
      ]
     },
     "metadata": {
      "needs_background": "light"
     },
     "output_type": "display_data"
    }
   ],
   "source": [
    "import matplotlib.pyplot as plt\n",
    "#直方图，因为category_id计数，channel_title计数以及view数值相差较大，故分三个直方图\n",
    "#category_id直方图\n",
    "plt.bar([1,2,3,4,5],[72325,33508,19258,18890,14602], label='category_id')\n",
    "\n",
    "plt.legend()\n",
    "\n",
    "plt.xlabel('category_id')\n",
    "plt.ylabel('Counts')\n",
    "\n",
    "plt.title('videos_category_id_count')\n",
    "\n",
    "plt.show()"
   ]
  },
  {
   "cell_type": "code",
   "execution_count": null,
   "metadata": {},
   "outputs": [],
   "source": []
  }
 ],
 "metadata": {
  "kernelspec": {
   "display_name": "Python 3",
   "language": "python",
   "name": "python3"
  },
  "language_info": {
   "codemirror_mode": {
    "name": "ipython",
    "version": 3
   },
   "file_extension": ".py",
   "mimetype": "text/x-python",
   "name": "python",
   "nbconvert_exporter": "python",
   "pygments_lexer": "ipython3",
   "version": "3.7.6"
  }
 },
 "nbformat": 4,
 "nbformat_minor": 4
}
