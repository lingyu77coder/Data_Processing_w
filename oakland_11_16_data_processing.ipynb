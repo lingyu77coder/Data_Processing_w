{
 "cells": [
  {
   "cell_type": "markdown",
   "metadata": {},
   "source": [
    "#                                    数据挖掘大作业"
   ]
  },
  {
   "cell_type": "code",
   "execution_count": 25,
   "metadata": {},
   "outputs": [
    {
     "name": "stderr",
     "output_type": "stream",
     "text": [
      "e:\\python37\\lib\\site-packages\\ipykernel_launcher.py:1: FutureWarning: The pandas.np module is deprecated and will be removed from pandas in a future version. Import numpy directly instead\n",
      "  \"\"\"Entry point for launching an IPython kernel.\n"
     ]
    },
    {
     "name": "stdout",
     "output_type": "stream",
     "text": [
      "每列缺失的数据个数分别为:\n",
      "Agency                         1\n",
      "Create Time                    1\n",
      "Location                       0\n",
      "Area Id                      904\n",
      "Beat                         520\n",
      "Priority                       1\n",
      "Incident Type Id               1\n",
      "Incident Type Description      1\n",
      "Event Number                   1\n",
      "Closed Time                    7\n",
      "dtype: int64\n"
     ]
    }
   ],
   "source": [
    "from pandas import Series,DataFrame,np\n",
    "from numpy import nan as NA\n",
    "import pandas as pd\n",
    "from scipy.interpolate import lagrange\n",
    "import matplotlib.pyplot as plt\n",
    "\n",
    "\n",
    "#1.加载数据\n",
    "def load_data(path,filename):\n",
    "    return pd.read_csv(path + '/' + filename)\n",
    "root = 'E:\\oakland-crime-statistics-2011-to-2016'\n",
    "data = load_data(root,'records-for-2011.csv')#中文\n",
    "data2 = load_data(root,'records-for-2011.csv')#中文\n",
    "\n",
    "#2.缺失数据统计 -列\n",
    "data.isnull().sum()\n",
    "print(\"每列缺失的数据个数分别为:\")\n",
    "print(data.isnull().sum())"
   ]
  },
  {
   "cell_type": "code",
   "execution_count": 27,
   "metadata": {},
   "outputs": [
    {
     "name": "stdout",
     "output_type": "stream",
     "text": [
      "Area Id和Beat根据Location值进行填补\n"
     ]
    }
   ],
   "source": [
    "#3.缺失值填补-根据不同属性特点，分为三种方法\n",
    "#3.1根据属性之间的相关关系填补缺失值\n",
    "print(\"Area Id和Beat根据Location值进行填补\")\n",
    "# 查看Area Id,Beat特征缺失处对应的\n",
    "#包含Area Id,Beat所需要的信息的Location特征的具体情况\n",
    "area_locationdes=data.loc[data['Area Id'].isnull(), 'Location']\n",
    "beat_locationdes=data.loc[data['Beat'].isnull(), 'Location']\n",
    "# 左边为Area Id,Beat特征缺失信息的具体位置，\n",
    "#利用字符串提取来补充Area Id的缺失信息\n",
    "data.loc[data['Area Id'].isnull(), 'Area Id'] \n",
    " = [str(x)[0: len(str(x))] for x in area_locationdes]\n",
    "data.loc[data['Beat'].isnull(), 'Beat'] \n",
    " = [str(y)[0: len(str(y))] for y in beat_locationdes]\n",
    "#print(\"填补后Area Id缺失个数为:\",data['Area Id'].isnull().sum())\n",
    "#print(\"填补后Beat缺失个数为:\",data['Beat'].isnull().sum())\n"
   ]
  },
  {
   "cell_type": "code",
   "execution_count": 28,
   "metadata": {},
   "outputs": [
    {
     "name": "stdout",
     "output_type": "stream",
     "text": [
      "Agency,Create Time,Priority,ITI,ITD,Event Number删除缺失值\n"
     ]
    }
   ],
   "source": [
    "#3.2删除缺失值-Agency,Create Time,Priority,ITI,ITD,Event Number\n",
    "#各缺失一个值，且在同一行180015，故删除该行即可\n",
    "print(\"Agency,Create Time,Priority,ITI,ITD,Event Number删除缺失值\")\n",
    "#因为缺失值位于同一行，所以用Agency代表\n",
    "data=data.dropna(axis=0,subset=['Agency'])"
   ]
  },
  {
   "cell_type": "code",
   "execution_count": 30,
   "metadata": {},
   "outputs": [
    {
     "name": "stdout",
     "output_type": "stream",
     "text": [
      "Closed Time用前一个非缺失数据填充\n",
      "填补后数据的缺失个数分别为:\n",
      " Agency                       0\n",
      "Create Time                  0\n",
      "Location                     0\n",
      "Area Id                      0\n",
      "Beat                         0\n",
      "Priority                     0\n",
      "Incident Type Id             0\n",
      "Incident Type Description    0\n",
      "Event Number                 0\n",
      "Closed Time                  0\n",
      "dtype: int64\n"
     ]
    }
   ],
   "source": [
    "#3.3用前一个非缺失数据填充\n",
    "print(\"Closed Time用前一个非缺失数据填充\")\n",
    "data['Closed Time']=data['Closed Time'].fillna(method='ffill')\n",
    "\n",
    "#检验缺失值处理后是否还存在缺失值\n",
    "print(\"填补后数据的缺失个数分别为:\\n\",data.isnull().sum())"
   ]
  },
  {
   "cell_type": "code",
   "execution_count": 31,
   "metadata": {},
   "outputs": [
    {
     "name": "stdout",
     "output_type": "stream",
     "text": [
      "删除重复数据\n",
      "处理后的数据行列为: (180015, 10)\n"
     ]
    }
   ],
   "source": [
    "#4.删除重复数据\n",
    "print(\"删除重复数据\")\n",
    "#去重,默认保留前一个\n",
    "df=data.drop_duplicates()\n",
    "\n",
    "\n",
    "print(\"处理后的数据行列为:\",df.shape)\n",
    "#print(\"处理后的数据为:\",df)"
   ]
  },
  {
   "cell_type": "code",
   "execution_count": 32,
   "metadata": {},
   "outputs": [
    {
     "name": "stdout",
     "output_type": "stream",
     "text": [
      "Area Id的频数为:\n",
      "{1.0: 79152, 2.0: 67261, 3.0: 32699}\n",
      "Area Id的频率为:\n",
      "{1.0: 0.4419134396355353, 2.0: 0.3755248112912591, 3.0: 0.1825617490732056}\n",
      "\n",
      "\n"
     ]
    }
   ],
   "source": [
    "#6. 统计一下各属性的频数和频率\n",
    "#6.1 Area Id频数和频率\n",
    "se_ai=pd.Series(data2['Area Id'])\n",
    "count_ai=dict(se_ai.value_counts())\n",
    "proport_ai = dict(se_ai.value_counts(normalize=True))\n",
    "print(\"Area Id的频数为:\")\n",
    "print(count_ai)\n",
    "print(\"Area Id的频率为:\")\n",
    "print(proport_ai)\n",
    "print(\"\\n\")"
   ]
  },
  {
   "cell_type": "code",
   "execution_count": 33,
   "metadata": {},
   "outputs": [
    {
     "name": "stdout",
     "output_type": "stream",
     "text": [
      "Location位于前十名的频数分别为:\n",
      " INTERNATIONAL BLVD  3866\n",
      " MACARTHUR BLVD  3129\n",
      " AV&INTERNATIONAL BLVD  3067\n",
      " BROADWAY   2132\n",
      " FOOTHILL BLVD  1791\n",
      " TELEGRAPH AV  1584\n",
      " BANCROFT AV  1319\n",
      " SAN PABLO AV 1272\n",
      " FRUITVALE AV  1141\n",
      " 7TH ST  1093\n",
      "Location位于前十名的频率分别为:\n",
      " INTERNATIONAL BLVD  0.02147598811210177\n",
      " MACARTHUR BLVD  0.017381884842929757\n",
      " AV&INTERNATIONAL BLVD  0.01703746909979724\n",
      " BROADWAY   0.01184345748965364\n",
      " FOOTHILL BLVD  0.009949170902424798\n",
      " TELEGRAPH AV  0.008799266727772686\n",
      " BANCROFT AV  0.007327167180512735\n",
      " SAN PABLO AV 0.007066077826847763\n",
      " FRUITVALE AV  0.006338360692164542\n",
      " 7TH ST  0.0060717162458684\n",
      "\n",
      "\n"
     ]
    }
   ],
   "source": [
    "# #6.2 Location各区域的频数和频率\n",
    "se_location=pd.Series(df['Location'])\n",
    "count_location=dict(se_location.value_counts())\n",
    "proport_location = dict(se_location.value_counts(normalize=True))\n",
    "print(\"Location位于前十名的频数分别为:\")\n",
    "for i,(key,value) in enumerate(count_location.items()):\n",
    "    if i in range(0,10):\n",
    "       print(key,value)\n",
    "print(\"Location位于前十名的频率分别为:\")\n",
    "for i,(key,value) in enumerate(proport_location.items()):\n",
    "    if i in range(0,10):\n",
    "       print(key,value)\n",
    "print(\"\\n\")"
   ]
  },
  {
   "cell_type": "code",
   "execution_count": 34,
   "metadata": {},
   "outputs": [
    {
     "name": "stdout",
     "output_type": "stream",
     "text": [
      "Beat位于前十名的频数分别为:\n",
      "04X 7410\n",
      "08X 6885\n",
      "26Y 5478\n",
      "30Y 5295\n",
      "06X 5119\n",
      "23X 5051\n",
      "30X 4956\n",
      "19X 4955\n",
      "34X 4673\n",
      "29X 4483\n",
      "Beat位于前十名的频率分别为:\n",
      "04X 0.04116323639696692\n",
      "08X 0.038246812765602864\n",
      "26Y 0.030430797433547204\n",
      "30Y 0.029414215482043163\n",
      "06X 0.028436519178957308\n",
      "23X 0.028058772880037774\n",
      "30X 0.02753103908007666\n",
      "19X 0.02752548398744549\n",
      "34X 0.025958947865455658\n",
      "29X 0.024903480265533427\n",
      "\n",
      "\n"
     ]
    }
   ],
   "source": [
    "#6.3 Beat频数和频率\n",
    "se_beat=pd.Series(df['Beat'])\n",
    "count_beat=dict(se_beat.value_counts())\n",
    "proport_beat=dict(se_beat.value_counts(normalize=True))\n",
    "print(\"Beat位于前十名的频数分别为:\")\n",
    "for i,(key,value) in enumerate(count_beat.items()):\n",
    "    if i in range(0,10):\n",
    "       print(key,value)\n",
    "print(\"Beat位于前十名的频率分别为:\")\n",
    "for i,(key,value) in enumerate(proport_beat.items()):\n",
    "    if i in range(0,10):\n",
    "       print(key,value)\n",
    "print(\"\\n\")\n"
   ]
  },
  {
   "cell_type": "code",
   "execution_count": 35,
   "metadata": {},
   "outputs": [
    {
     "data": {
      "image/png": "[encoded data removed]",
      "text/plain": [
       "<Figure size 432x288 with 1 Axes>"
      ]
     },
     "metadata": {
      "needs_background": "light"
     },
     "output_type": "display_data"
    }
   ],
   "source": [
    "#Location和Beat直方图\n",
    "plt.bar([1,3,5,7,9],[count_location[' INTERNATIONAL BLVD '],\n",
    "                     count_location[' MACARTHUR BLVD '],\n",
    "                     count_location[' AV&INTERNATIONAL BLVD '],\n",
    "                     count_location[' BROADWAY  '],\n",
    "                     count_location[' FOOTHILL BLVD ']], label='Location')\n",
    "\n",
    "plt.bar([2,4,6,8,10],[count_beat['04X'],count_beat['08X'],\n",
    "                      count_beat['26Y'],count_beat['30Y'],\n",
    "                      count_beat['06X']], label='Beat')\n",
    "plt.legend()\n",
    "plt.xlabel('Categories')\n",
    "plt.ylabel('Counts')\n",
    "plt.title('Oakland-Crime-Statistics-2011')\n",
    "plt.show()"
   ]
  }
 ],
 "metadata": {
  "kernelspec": {
   "display_name": "Python 3",
   "language": "python",
   "name": "python3"
  },
  "language_info": {
   "codemirror_mode": {
    "name": "ipython",
    "version": 3
   },
   "file_extension": ".py",
   "mimetype": "text/x-python",
   "name": "python",
   "nbconvert_exporter": "python",
   "pygments_lexer": "ipython3",
   "version": "3.7.6"
  }
 },
 "nbformat": 4,
 "nbformat_minor": 4
}
